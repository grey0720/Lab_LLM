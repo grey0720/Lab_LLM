{
 "cells": [
  {
   "cell_type": "code",
   "execution_count": 21,
   "id": "a6130ab7-3b11-4210-a161-08173ef39361",
   "metadata": {},
   "outputs": [],
   "source": [
    "%%capture\n",
    "# https://github.com/parrt/dtreeviz/issues/108\n",
    "# updated versions are needed for MLJarSupervised\n",
    "! pip3 install graphviz==0.15.0\n",
    "import graphviz\n",
    "print(graphviz.__version__)"
   ]
  },
  {
   "cell_type": "code",
   "execution_count": 22,
   "id": "526a306f-17ca-4129-8f91-503c600dc048",
   "metadata": {},
   "outputs": [],
   "source": [
    "import os\n",
    "import time\n",
    "import seaborn as sns\n",
    "import pandas as pd\n",
    "import numpy as np\n",
    "from sklearn.metrics import accuracy_score\n",
    "import matplotlib.pyplot as plt\n",
    "from sklearn.model_selection import train_test_split\n",
    "import warnings\n",
    "import logging\n",
    "from warnings import simplefilter\n",
    "\n",
    "warnings.filterwarnings('ignore')\n",
    "logging.captureWarnings(True)\n",
    "simplefilter(action='ignore', category=FutureWarning)"
   ]
  },
  {
   "cell_type": "code",
   "execution_count": 23,
   "id": "9dbfb0d5-0bd1-4049-af6d-9afacaac9ee3",
   "metadata": {},
   "outputs": [
    {
     "data": {
      "text/html": [
       "<div>\n",
       "<style scoped>\n",
       "    .dataframe tbody tr th:only-of-type {\n",
       "        vertical-align: middle;\n",
       "    }\n",
       "\n",
       "    .dataframe tbody tr th {\n",
       "        vertical-align: top;\n",
       "    }\n",
       "\n",
       "    .dataframe thead th {\n",
       "        text-align: right;\n",
       "    }\n",
       "</style>\n",
       "<table border=\"1\" class=\"dataframe\">\n",
       "  <thead>\n",
       "    <tr style=\"text-align: right;\">\n",
       "      <th></th>\n",
       "      <th>PassengerId</th>\n",
       "      <th>Pclass</th>\n",
       "      <th>Name</th>\n",
       "      <th>Sex</th>\n",
       "      <th>Age</th>\n",
       "      <th>SibSp</th>\n",
       "      <th>Parch</th>\n",
       "      <th>Ticket</th>\n",
       "      <th>Fare</th>\n",
       "      <th>Cabin</th>\n",
       "      <th>Embarked</th>\n",
       "    </tr>\n",
       "  </thead>\n",
       "  <tbody>\n",
       "    <tr>\n",
       "      <th>0</th>\n",
       "      <td>892</td>\n",
       "      <td>3</td>\n",
       "      <td>Kelly, Mr. James</td>\n",
       "      <td>male</td>\n",
       "      <td>34.5</td>\n",
       "      <td>0</td>\n",
       "      <td>0</td>\n",
       "      <td>330911</td>\n",
       "      <td>7.8292</td>\n",
       "      <td>NaN</td>\n",
       "      <td>Q</td>\n",
       "    </tr>\n",
       "    <tr>\n",
       "      <th>1</th>\n",
       "      <td>893</td>\n",
       "      <td>3</td>\n",
       "      <td>Wilkes, Mrs. James (Ellen Needs)</td>\n",
       "      <td>female</td>\n",
       "      <td>47.0</td>\n",
       "      <td>1</td>\n",
       "      <td>0</td>\n",
       "      <td>363272</td>\n",
       "      <td>7.0000</td>\n",
       "      <td>NaN</td>\n",
       "      <td>S</td>\n",
       "    </tr>\n",
       "    <tr>\n",
       "      <th>2</th>\n",
       "      <td>894</td>\n",
       "      <td>2</td>\n",
       "      <td>Myles, Mr. Thomas Francis</td>\n",
       "      <td>male</td>\n",
       "      <td>62.0</td>\n",
       "      <td>0</td>\n",
       "      <td>0</td>\n",
       "      <td>240276</td>\n",
       "      <td>9.6875</td>\n",
       "      <td>NaN</td>\n",
       "      <td>Q</td>\n",
       "    </tr>\n",
       "    <tr>\n",
       "      <th>3</th>\n",
       "      <td>895</td>\n",
       "      <td>3</td>\n",
       "      <td>Wirz, Mr. Albert</td>\n",
       "      <td>male</td>\n",
       "      <td>27.0</td>\n",
       "      <td>0</td>\n",
       "      <td>0</td>\n",
       "      <td>315154</td>\n",
       "      <td>8.6625</td>\n",
       "      <td>NaN</td>\n",
       "      <td>S</td>\n",
       "    </tr>\n",
       "    <tr>\n",
       "      <th>4</th>\n",
       "      <td>896</td>\n",
       "      <td>3</td>\n",
       "      <td>Hirvonen, Mrs. Alexander (Helga E Lindqvist)</td>\n",
       "      <td>female</td>\n",
       "      <td>22.0</td>\n",
       "      <td>1</td>\n",
       "      <td>1</td>\n",
       "      <td>3101298</td>\n",
       "      <td>12.2875</td>\n",
       "      <td>NaN</td>\n",
       "      <td>S</td>\n",
       "    </tr>\n",
       "  </tbody>\n",
       "</table>\n",
       "</div>"
      ],
      "text/plain": [
       "   PassengerId  Pclass                                          Name     Sex  \\\n",
       "0          892       3                              Kelly, Mr. James    male   \n",
       "1          893       3              Wilkes, Mrs. James (Ellen Needs)  female   \n",
       "2          894       2                     Myles, Mr. Thomas Francis    male   \n",
       "3          895       3                              Wirz, Mr. Albert    male   \n",
       "4          896       3  Hirvonen, Mrs. Alexander (Helga E Lindqvist)  female   \n",
       "\n",
       "    Age  SibSp  Parch   Ticket     Fare Cabin Embarked  \n",
       "0  34.5      0      0   330911   7.8292   NaN        Q  \n",
       "1  47.0      1      0   363272   7.0000   NaN        S  \n",
       "2  62.0      0      0   240276   9.6875   NaN        Q  \n",
       "3  27.0      0      0   315154   8.6625   NaN        S  \n",
       "4  22.0      1      1  3101298  12.2875   NaN        S  "
      ]
     },
     "execution_count": 23,
     "metadata": {},
     "output_type": "execute_result"
    }
   ],
   "source": [
    "train_data = pd.read_csv('./train.csv')\n",
    "test_data = pd.read_csv('./test.csv')\n",
    "test_data.head()"
   ]
  },
  {
   "cell_type": "raw",
   "id": "1d694ac7",
   "metadata": {},
   "source": [
    "# 데이터의 방향을 확인하기 위한 그래프 -> 잠시 생략\n",
    "sns.heatmap(train_data.isnull(), cbar=False)\n",
    "sns.heatmap(test_data.isnull(), cbar=False)\n",
    "sns.swarmplot(data=train_data, x='Sex', y='Age', hue=\"Survived\")\n",
    "sns.swarmplot(data=train_data, x='Sex', y='Fare', hue=\"Survived\")\n",
    "sns.swarmplot(data=train_data, x='Sex', y='Pclass', hue=\"Survived\")\n",
    "sns.swarmplot(data=train_data, x='Sex', y='Parch', hue=\"Survived\")\n",
    "sns.swarmplot(data=train_data, x='Sex', y='SibSp', hue=\"Survived\")"
   ]
  },
  {
   "cell_type": "code",
   "execution_count": 24,
   "id": "4c948a5d",
   "metadata": {},
   "outputs": [],
   "source": [
    "from sklearn.impute import SimpleImputer\n",
    "\n",
    "def impute_nan_values(data, column):\n",
    "    imr = SimpleImputer(missing_values=np.nan, strategy='median')\n",
    "    print(f\"Number of {column} NaN values before impute: {data[column].isnull().sum().sum()}\")\n",
    "    imr = imr.fit(data[[column]])\n",
    "    data[column] = imr.transform(data[[column]]).ravel()\n",
    "    print(f\"Number of {column} NaN values after impute: {data[column].isnull().sum().sum()}\")\n",
    "\n",
    "def remove_nan_values(data, column):\n",
    "    print(f\"Number of {column} NaN values before impute: {data[column].isnull().sum().sum()}\")\n",
    "    _data = data[data[column].notnull()]\n",
    "    print(f\"Number of {column} NaN values after impute: {_data[column].isnull().sum().sum()}\")\n",
    "    return _data"
   ]
  },
  {
   "cell_type": "code",
   "execution_count": 25,
   "id": "4d7c8e02",
   "metadata": {},
   "outputs": [
    {
     "name": "stdout",
     "output_type": "stream",
     "text": [
      "PassengerId: 0 missing values\n",
      "Survived: 0 missing values\n",
      "Pclass: 0 missing values\n",
      "Name: 0 missing values\n",
      "Sex: 0 missing values\n",
      "Age: 177 missing values\n",
      "SibSp: 0 missing values\n",
      "Parch: 0 missing values\n",
      "Ticket: 0 missing values\n",
      "Fare: 0 missing values\n",
      "Cabin: 687 missing values\n",
      "Embarked: 2 missing values\n",
      "Number of Age NaN values before impute: 177\n",
      "Number of Age NaN values after impute: 0\n",
      "Number of Embarked NaN values before impute: 2\n",
      "Number of Embarked NaN values after impute: 0\n"
     ]
    }
   ],
   "source": [
    "for column in train_data.columns:\n",
    "    print(f\"{column}: {str(sum(train_data[column].isnull()))} missing values\")\n",
    "\n",
    "impute_nan_values(train_data, 'Age')\n",
    "train_data = remove_nan_values(train_data, 'Embarked')"
   ]
  },
  {
   "cell_type": "code",
   "execution_count": 26,
   "id": "e5960e80",
   "metadata": {},
   "outputs": [
    {
     "name": "stdout",
     "output_type": "stream",
     "text": [
      "PassengerId: 0 missing values\n",
      "Pclass: 0 missing values\n",
      "Name: 0 missing values\n",
      "Sex: 0 missing values\n",
      "Age: 86 missing values\n",
      "SibSp: 0 missing values\n",
      "Parch: 0 missing values\n",
      "Ticket: 0 missing values\n",
      "Fare: 1 missing values\n",
      "Cabin: 327 missing values\n",
      "Embarked: 0 missing values\n",
      "Number of Age NaN values before impute: 86\n",
      "Number of Age NaN values after impute: 0\n",
      "Number of Fare NaN values before impute: 1\n",
      "Number of Fare NaN values after impute: 0\n"
     ]
    }
   ],
   "source": [
    "for column in test_data.columns:\n",
    "    print(f\"{column}: {str(sum(test_data[column].isnull()))} missing values\")\n",
    "\n",
    "impute_nan_values(test_data, 'Age')\n",
    "impute_nan_values(test_data, 'Fare')"
   ]
  },
  {
   "cell_type": "code",
   "execution_count": 27,
   "id": "8910c26e",
   "metadata": {},
   "outputs": [],
   "source": [
    "# z score 를 이용한 outlier 제거\n",
    "def outliers_z_score(data):\n",
    "    outliers=[]\n",
    "    threshold = 6 \n",
    "    \n",
    "    mean_y = np.mean(data) #data 중앙값\n",
    "    stdev_y =np.std(data) #data 표준값\n",
    "    \n",
    "    for i in data:\n",
    "        z_score = (i-mean_y)/stdev_y \n",
    "        if np.abs(z_score) > threshold:\n",
    "            outliers.append(i)\n",
    "    return outliers"
   ]
  },
  {
   "cell_type": "code",
   "execution_count": 28,
   "id": "34055b93",
   "metadata": {},
   "outputs": [
    {
     "name": "stdout",
     "output_type": "stream",
     "text": [
      "age Outlier: []\n",
      "Fare Outlier: [512.3292, 512.3292, 512.3292]\n",
      "Parch Outlier: [6]\n",
      "Sibsp Outlier: [8, 8, 8, 8, 8, 8, 8]\n"
     ]
    }
   ],
   "source": [
    "age_outliers = outliers_z_score(train_data['Age'])\n",
    "print(f\"age Outlier: {age_outliers}\") # f -> {age_outliers}를 출력하기 위한 문자열 포멧\n",
    "for ao in age_outliers:\n",
    "    train_data = train_data[train_data.Age != ao] # \"ao\" -> 와 같은 값의 age는 삭제 -> 전체 필드를 전부 다 삭제\n",
    "\n",
    "fare_outliers = outliers_z_score(train_data['Fare'])\n",
    "print(f\"Fare Outlier: {fare_outliers}\")\n",
    "for ao in fare_outliers: # fo, so 등 많지만 그냥 ao만 사용\n",
    "    train_data = train_data[train_data.Fare != ao]\n",
    "    \n",
    "pr_outliers = outliers_z_score(train_data['Parch'])\n",
    "print(f\"Parch Outlier: {pr_outliers}\") # f -> {age_outliers}를 출력하기 위한 문자열 포멧\n",
    "for ao in pr_outliers:\n",
    "    train_data = train_data[train_data.Parch != ao]\n",
    "    \n",
    "ss_outliers = outliers_z_score(train_data['SibSp'])\n",
    "print(f\"Sibsp Outlier: {ss_outliers}\") # f -> {age_outliers}를 출력하기 위한 문자열 포멧\n",
    "for ao in ss_outliers:\n",
    "    train_data = train_data[train_data.SibSp != ao]\n",
    "    "
   ]
  },
  {
   "cell_type": "raw",
   "id": "9076a772",
   "metadata": {},
   "source": [
    "# 데이터의 방향을 확인하기 위한 그래프 -> 잠시 생략\n",
    "sns.heatmap(train_data.isnull(), cbar=False)\n",
    "sns.heatmap(test_data.isnull(), cbar=False)\n",
    "sns.swarmplot(data=train_data, x='Sex', y='Age', hue=\"Survived\")\n",
    "sns.swarmplot(data=train_data, x='Sex', y='Fare', hue=\"Survived\")\n",
    "sns.swarmplot(data=train_data, x='Sex', y='Pclass', hue=\"Survived\")\n",
    "sns.swarmplot(data=train_data, x='Sex', y='Parch', hue=\"Survived\")\n",
    "sns.swarmplot(data=train_data, x='Sex', y='SibSp', hue=\"Survived\")"
   ]
  },
  {
   "cell_type": "code",
   "execution_count": 29,
   "id": "7f610dd5",
   "metadata": {},
   "outputs": [],
   "source": [
    "train_data.drop(['Name','PassengerId','Cabin', 'Ticket'], inplace = True, axis = 1)\n",
    "test_data.drop(['Name','PassengerId','Cabin', 'Ticket'], inplace = True, axis = 1)"
   ]
  },
  {
   "cell_type": "code",
   "execution_count": 30,
   "id": "9371b896",
   "metadata": {},
   "outputs": [
    {
     "name": "stdout",
     "output_type": "stream",
     "text": [
      "<class 'pandas.core.frame.DataFrame'>\n",
      "Int64Index: 878 entries, 0 to 890\n",
      "Data columns (total 8 columns):\n",
      " #   Column    Non-Null Count  Dtype  \n",
      "---  ------    --------------  -----  \n",
      " 0   Survived  878 non-null    int64  \n",
      " 1   Pclass    878 non-null    int64  \n",
      " 2   Sex       878 non-null    object \n",
      " 3   Age       878 non-null    float64\n",
      " 4   SibSp     878 non-null    int64  \n",
      " 5   Parch     878 non-null    int64  \n",
      " 6   Fare      878 non-null    float64\n",
      " 7   Embarked  878 non-null    object \n",
      "dtypes: float64(2), int64(4), object(2)\n",
      "memory usage: 61.7+ KB\n"
     ]
    }
   ],
   "source": [
    "train_data.info()"
   ]
  },
  {
   "cell_type": "code",
   "execution_count": 31,
   "id": "8f5d511d",
   "metadata": {},
   "outputs": [],
   "source": [
    "# 원핫 인코딩\n",
    "from sklearn.preprocessing import LabelEncoder\n",
    "label_encoder = LabelEncoder()\n",
    "\n",
    "train_data[\"Embarked\"] = label_encoder.fit_transform(train_data[\"Embarked\"])\n",
    "train_data[\"Sex\"] = label_encoder.fit_transform(train_data[\"Sex\"])\n",
    "\n",
    "test_data[\"Embarked\"] = label_encoder.fit_transform(test_data[\"Embarked\"])\n",
    "test_data[\"Sex\"] = label_encoder.fit_transform(test_data[\"Sex\"])"
   ]
  },
  {
   "cell_type": "code",
   "execution_count": 32,
   "id": "39eff67e",
   "metadata": {},
   "outputs": [
    {
     "name": "stdout",
     "output_type": "stream",
     "text": [
      "Survived      int64\n",
      "Pclass        int64\n",
      "Sex           int32\n",
      "Age         float64\n",
      "SibSp         int64\n",
      "Parch         int64\n",
      "Fare        float64\n",
      "Embarked      int32\n",
      "dtype: object\n"
     ]
    }
   ],
   "source": [
    "print(train_data.dtypes)"
   ]
  },
  {
   "cell_type": "code",
   "execution_count": 33,
   "id": "e176d8e6",
   "metadata": {},
   "outputs": [
    {
     "data": {
      "text/plain": [
       "<Axes: >"
      ]
     },
     "execution_count": 33,
     "metadata": {},
     "output_type": "execute_result"
    },
    {
     "data": {
      "image/png": "[encoded data removed]",
      "text/plain": [
       "<Figure size 800x800 with 2 Axes>"
      ]
     },
     "metadata": {},
     "output_type": "display_data"
    }
   ],
   "source": [
    "f,ax = plt.subplots(figsize=(8, 8))\n",
    "sns.heatmap(train_data.corr(), annot=True, linewidths=1, ax=ax)"
   ]
  },
  {
   "cell_type": "code",
   "execution_count": null,
   "id": "2d34546a",
   "metadata": {},
   "outputs": [],
   "source": [
    "# train Model\n",
    "target= train_data['Survived']\n",
    "train_data.drop(['Survived'], inplace = True, axis =1)\n",
    "\n",
    "X_train, X_test, y_train, y_test = train_test_split(train_data, target, test_size = 0.25, random_state=42, shuffle=False)\n",
    "#random_state 42 -> 상징적인 숫자, 알필요는 없음\n"
   ]
  }
 ],
 "metadata": {
  "kernelspec": {
   "display_name": "Python 3 (ipykernel)",
   "language": "python",
   "name": "python3"
  },
  "language_info": {
   "codemirror_mode": {
    "name": "ipython",
    "version": 3
   },
   "file_extension": ".py",
   "mimetype": "text/x-python",
   "name": "python",
   "nbconvert_exporter": "python",
   "pygments_lexer": "ipython3",
   "version": "3.11.4"
  }
 },
 "nbformat": 4,
 "nbformat_minor": 5
}

{
 "cells": [
  {
   "cell_type": "code",
   "execution_count": 9,
   "id": "34df3763",
   "metadata": {},
   "outputs": [
    {
     "name": "stderr",
     "output_type": "stream",
     "text": [
      "/home/dummy/.local/lib/python3.10/site-packages/sklearn/utils/validation.py:767: FutureWarning: is_sparse is deprecated and will be removed in a future version. Check `isinstance(dtype, pd.SparseDtype)` instead.\n",
      "  if not hasattr(array, \"sparse\") and array.dtypes.apply(is_sparse).any():\n",
      "/home/dummy/.local/lib/python3.10/site-packages/sklearn/utils/validation.py:605: FutureWarning: is_sparse is deprecated and will be removed in a future version. Check `isinstance(dtype, pd.SparseDtype)` instead.\n",
      "  if is_sparse(pd_dtype):\n",
      "/home/dummy/.local/lib/python3.10/site-packages/sklearn/utils/validation.py:614: FutureWarning: is_sparse is deprecated and will be removed in a future version. Check `isinstance(dtype, pd.SparseDtype)` instead.\n",
      "  if is_sparse(pd_dtype) or not is_extension_array_dtype(pd_dtype):\n",
      "/home/dummy/.local/lib/python3.10/site-packages/sklearn/utils/validation.py:767: FutureWarning: is_sparse is deprecated and will be removed in a future version. Check `isinstance(dtype, pd.SparseDtype)` instead.\n",
      "  if not hasattr(array, \"sparse\") and array.dtypes.apply(is_sparse).any():\n",
      "/home/dummy/.local/lib/python3.10/site-packages/sklearn/utils/validation.py:605: FutureWarning: is_sparse is deprecated and will be removed in a future version. Check `isinstance(dtype, pd.SparseDtype)` instead.\n",
      "  if is_sparse(pd_dtype):\n",
      "/home/dummy/.local/lib/python3.10/site-packages/sklearn/utils/validation.py:614: FutureWarning: is_sparse is deprecated and will be removed in a future version. Check `isinstance(dtype, pd.SparseDtype)` instead.\n",
      "  if is_sparse(pd_dtype) or not is_extension_array_dtype(pd_dtype):\n",
      "/home/dummy/.local/lib/python3.10/site-packages/sklearn/utils/validation.py:605: FutureWarning: is_sparse is deprecated and will be removed in a future version. Check `isinstance(dtype, pd.SparseDtype)` instead.\n",
      "  if is_sparse(pd_dtype):\n",
      "/home/dummy/.local/lib/python3.10/site-packages/sklearn/utils/validation.py:614: FutureWarning: is_sparse is deprecated and will be removed in a future version. Check `isinstance(dtype, pd.SparseDtype)` instead.\n",
      "  if is_sparse(pd_dtype) or not is_extension_array_dtype(pd_dtype):\n",
      "/home/dummy/.local/lib/python3.10/site-packages/sklearn/utils/validation.py:605: FutureWarning: is_sparse is deprecated and will be removed in a future version. Check `isinstance(dtype, pd.SparseDtype)` instead.\n",
      "  if is_sparse(pd_dtype):\n",
      "/home/dummy/.local/lib/python3.10/site-packages/sklearn/utils/validation.py:614: FutureWarning: is_sparse is deprecated and will be removed in a future version. Check `isinstance(dtype, pd.SparseDtype)` instead.\n",
      "  if is_sparse(pd_dtype) or not is_extension_array_dtype(pd_dtype):\n",
      "/home/dummy/.local/lib/python3.10/site-packages/sklearn/utils/validation.py:605: FutureWarning: is_sparse is deprecated and will be removed in a future version. Check `isinstance(dtype, pd.SparseDtype)` instead.\n",
      "  if is_sparse(pd_dtype):\n",
      "/home/dummy/.local/lib/python3.10/site-packages/sklearn/utils/validation.py:614: FutureWarning: is_sparse is deprecated and will be removed in a future version. Check `isinstance(dtype, pd.SparseDtype)` instead.\n",
      "  if is_sparse(pd_dtype) or not is_extension_array_dtype(pd_dtype):\n",
      "/home/dummy/.local/lib/python3.10/site-packages/sklearn/utils/validation.py:605: FutureWarning: is_sparse is deprecated and will be removed in a future version. Check `isinstance(dtype, pd.SparseDtype)` instead.\n",
      "  if is_sparse(pd_dtype):\n",
      "/home/dummy/.local/lib/python3.10/site-packages/sklearn/utils/validation.py:614: FutureWarning: is_sparse is deprecated and will be removed in a future version. Check `isinstance(dtype, pd.SparseDtype)` instead.\n",
      "  if is_sparse(pd_dtype) or not is_extension_array_dtype(pd_dtype):\n",
      "/home/dummy/.local/lib/python3.10/site-packages/sklearn/utils/validation.py:767: FutureWarning: is_sparse is deprecated and will be removed in a future version. Check `isinstance(dtype, pd.SparseDtype)` instead.\n",
      "  if not hasattr(array, \"sparse\") and array.dtypes.apply(is_sparse).any():\n",
      "/home/dummy/.local/lib/python3.10/site-packages/sklearn/utils/validation.py:605: FutureWarning: is_sparse is deprecated and will be removed in a future version. Check `isinstance(dtype, pd.SparseDtype)` instead.\n",
      "  if is_sparse(pd_dtype):\n",
      "/home/dummy/.local/lib/python3.10/site-packages/sklearn/utils/validation.py:614: FutureWarning: is_sparse is deprecated and will be removed in a future version. Check `isinstance(dtype, pd.SparseDtype)` instead.\n",
      "  if is_sparse(pd_dtype) or not is_extension_array_dtype(pd_dtype):\n"
     ]
    },
    {
     "name": "stdout",
     "output_type": "stream",
     "text": [
      "Validation Accuracy: 0.9628571428571429\n"
     ]
    }
   ],
   "source": [
    "# 필요한 라이브러리 불러오기\n",
    "import pandas as pd\n",
    "import numpy as np\n",
    "from sklearn.model_selection import train_test_split\n",
    "from sklearn.ensemble import RandomForestClassifier\n",
    "from sklearn.metrics import accuracy_score\n",
    "from sklearn.preprocessing import StandardScaler\n",
    "\n",
    "# 데이터 불러오기\n",
    "train_data = pd.read_csv(\"train.csv\")\n",
    "test_data = pd.read_csv(\"test.csv\")\n",
    "\n",
    "# 훈련 데이터와 레이블 분리\n",
    "X = train_data.drop(\"label\", axis=1)\n",
    "y = train_data[\"label\"]\n",
    "\n",
    "# 데이터 정규화\n",
    "scaler = StandardScaler()\n",
    "X = scaler.fit_transform(X)\n",
    "\n",
    "# 훈련 데이터와 검증 데이터로 분리\n",
    "X_train, X_val, y_train, y_val = train_test_split(X, y, test_size=0.2, random_state=42)\n",
    "\n",
    "# 모델 훈련\n",
    "model = RandomForestClassifier(n_estimators=100, random_state=42)\n",
    "model.fit(X_train, y_train)\n",
    "\n",
    "# 검증 데이터에 대한 예측\n",
    "val_predictions = model.predict(X_val)\n",
    "\n",
    "# 정확도 계산\n",
    "accuracy = accuracy_score(y_val, val_predictions)\n",
    "print(f\"Validation Accuracy: {accuracy}\")\n",
    "\n",
    "# 테스트 데이터에 대한 예측\n",
    "test_data = scaler.transform(test_data)\n",
    "test_predictions = model.predict(test_data)\n",
    "\n",
    "# 결과를 제출 형식에 맞게 저장\n",
    "submission = pd.DataFrame({\"ImageId\": range(1, len(test_predictions) + 1), \"Label\": test_predictions})\n",
    "submission.to_csv(\"submission.csv\", index=False)\n"
   ]
  },
  {
   "cell_type": "markdown",
   "id": "9b24cd15",
   "metadata": {},
   "source": [
    "# 1회차 결과\n",
    "- Test accuracy (Validation accuracy) : 0.9628\n",
    "- kaggle submission 결과, score 0.96267 달성\n",
    "- 보통 MNIST 데이터의 알고리즘으로 알려진 CNN이 아닌 random forest로 해결함"
   ]
  },
  {
   "cell_type": "code",
   "execution_count": 3,
   "id": "09d1f87c",
   "metadata": {},
   "outputs": [
    {
     "name": "stderr",
     "output_type": "stream",
     "text": [
      "2024-01-01 15:24:36.353377: E tensorflow/compiler/xla/stream_executor/cuda/cuda_dnn.cc:9342] Unable to register cuDNN factory: Attempting to register factory for plugin cuDNN when one has already been registered\n",
      "2024-01-01 15:24:36.353416: E tensorflow/compiler/xla/stream_executor/cuda/cuda_fft.cc:609] Unable to register cuFFT factory: Attempting to register factory for plugin cuFFT when one has already been registered\n",
      "2024-01-01 15:24:36.354392: E tensorflow/compiler/xla/stream_executor/cuda/cuda_blas.cc:1518] Unable to register cuBLAS factory: Attempting to register factory for plugin cuBLAS when one has already been registered\n",
      "2024-01-01 15:24:36.436464: I tensorflow/core/platform/cpu_feature_guard.cc:182] This TensorFlow binary is optimized to use available CPU instructions in performance-critical operations.\n",
      "To enable the following instructions: AVX2 FMA, in other operations, rebuild TensorFlow with the appropriate compiler flags.\n"
     ]
    },
    {
     "name": "stdout",
     "output_type": "stream",
     "text": [
      "Epoch 1/10\n"
     ]
    },
    {
     "name": "stderr",
     "output_type": "stream",
     "text": [
      "2024-01-01 15:24:39.925837: I tensorflow/compiler/xla/stream_executor/cuda/cuda_gpu_executor.cc:880] could not open file to read NUMA node: /sys/bus/pci/devices/0000:05:00.0/numa_node\n",
      "Your kernel may have been built without NUMA support.\n",
      "2024-01-01 15:24:39.941744: I tensorflow/compiler/xla/stream_executor/cuda/cuda_gpu_executor.cc:880] could not open file to read NUMA node: /sys/bus/pci/devices/0000:05:00.0/numa_node\n",
      "Your kernel may have been built without NUMA support.\n",
      "2024-01-01 15:24:39.941793: I tensorflow/compiler/xla/stream_executor/cuda/cuda_gpu_executor.cc:880] could not open file to read NUMA node: /sys/bus/pci/devices/0000:05:00.0/numa_node\n",
      "Your kernel may have been built without NUMA support.\n",
      "2024-01-01 15:24:39.942792: I tensorflow/compiler/xla/stream_executor/cuda/cuda_gpu_executor.cc:880] could not open file to read NUMA node: /sys/bus/pci/devices/0000:05:00.0/numa_node\n",
      "Your kernel may have been built without NUMA support.\n",
      "2024-01-01 15:24:39.942841: I tensorflow/compiler/xla/stream_executor/cuda/cuda_gpu_executor.cc:880] could not open file to read NUMA node: /sys/bus/pci/devices/0000:05:00.0/numa_node\n",
      "Your kernel may have been built without NUMA support.\n",
      "2024-01-01 15:24:39.942870: I tensorflow/compiler/xla/stream_executor/cuda/cuda_gpu_executor.cc:880] could not open file to read NUMA node: /sys/bus/pci/devices/0000:05:00.0/numa_node\n",
      "Your kernel may have been built without NUMA support.\n",
      "2024-01-01 15:24:40.204068: I tensorflow/compiler/xla/stream_executor/cuda/cuda_gpu_executor.cc:880] could not open file to read NUMA node: /sys/bus/pci/devices/0000:05:00.0/numa_node\n",
      "Your kernel may have been built without NUMA support.\n",
      "2024-01-01 15:24:40.204130: I tensorflow/compiler/xla/stream_executor/cuda/cuda_gpu_executor.cc:880] could not open file to read NUMA node: /sys/bus/pci/devices/0000:05:00.0/numa_node\n",
      "Your kernel may have been built without NUMA support.\n",
      "2024-01-01 15:24:40.204137: I tensorflow/core/common_runtime/gpu/gpu_device.cc:1977] Could not identify NUMA node of platform GPU id 0, defaulting to 0.  Your kernel may not have been built with NUMA support.\n",
      "2024-01-01 15:24:40.204176: I tensorflow/compiler/xla/stream_executor/cuda/cuda_gpu_executor.cc:880] could not open file to read NUMA node: /sys/bus/pci/devices/0000:05:00.0/numa_node\n",
      "Your kernel may have been built without NUMA support.\n",
      "2024-01-01 15:24:40.204191: I tensorflow/core/common_runtime/gpu/gpu_device.cc:1886] Created device /job:localhost/replica:0/task:0/device:GPU:0 with 7551 MB memory:  -> device: 0, name: NVIDIA GeForce RTX 3080, pci bus id: 0000:05:00.0, compute capability: 8.6\n",
      "2024-01-01 15:24:41.063065: I tensorflow/compiler/xla/stream_executor/cuda/cuda_dnn.cc:442] Loaded cuDNN version 8700\n",
      "2024-01-01 15:24:41.469653: I tensorflow/compiler/xla/service/service.cc:168] XLA service 0x7f3f82f692f0 initialized for platform CUDA (this does not guarantee that XLA will be used). Devices:\n",
      "2024-01-01 15:24:41.469680: I tensorflow/compiler/xla/service/service.cc:176]   StreamExecutor device (0): NVIDIA GeForce RTX 3080, Compute Capability 8.6\n",
      "2024-01-01 15:24:41.475716: I tensorflow/compiler/mlir/tensorflow/utils/dump_mlir_util.cc:269] disabling MLIR crash reproducer, set env var `MLIR_CRASH_REPRODUCER_DIRECTORY` to enable.\n",
      "2024-01-01 15:24:41.544258: I ./tensorflow/compiler/jit/device_compiler.h:186] Compiled cluster using XLA!  This line is logged at most once for the lifetime of the process.\n"
     ]
    },
    {
     "name": "stdout",
     "output_type": "stream",
     "text": [
      "525/525 [==============================] - 4s 4ms/step - loss: 0.2180 - accuracy: 0.9344 - val_loss: 0.0786 - val_accuracy: 0.9758\n",
      "Epoch 2/10\n",
      "525/525 [==============================] - 2s 4ms/step - loss: 0.0641 - accuracy: 0.9797 - val_loss: 0.0849 - val_accuracy: 0.9725\n",
      "Epoch 3/10\n",
      "525/525 [==============================] - 2s 5ms/step - loss: 0.0435 - accuracy: 0.9862 - val_loss: 0.0589 - val_accuracy: 0.9801\n",
      "Epoch 4/10\n",
      "525/525 [==============================] - 6s 11ms/step - loss: 0.0330 - accuracy: 0.9898 - val_loss: 0.0443 - val_accuracy: 0.9863\n",
      "Epoch 5/10\n",
      "525/525 [==============================] - 11s 22ms/step - loss: 0.0253 - accuracy: 0.9919 - val_loss: 0.0340 - val_accuracy: 0.9889\n",
      "Epoch 6/10\n",
      "525/525 [==============================] - 7s 13ms/step - loss: 0.0183 - accuracy: 0.9942 - val_loss: 0.0388 - val_accuracy: 0.9875\n",
      "Epoch 7/10\n",
      "525/525 [==============================] - 9s 17ms/step - loss: 0.0144 - accuracy: 0.9949 - val_loss: 0.0360 - val_accuracy: 0.9879\n",
      "Epoch 8/10\n",
      "525/525 [==============================] - 9s 18ms/step - loss: 0.0119 - accuracy: 0.9965 - val_loss: 0.0335 - val_accuracy: 0.9889\n",
      "Epoch 9/10\n",
      "525/525 [==============================] - 7s 13ms/step - loss: 0.0090 - accuracy: 0.9969 - val_loss: 0.0444 - val_accuracy: 0.9883\n",
      "Epoch 10/10\n",
      "525/525 [==============================] - 7s 13ms/step - loss: 0.0082 - accuracy: 0.9974 - val_loss: 0.0489 - val_accuracy: 0.9863\n",
      "875/875 [==============================] - 3s 4ms/step\n"
     ]
    }
   ],
   "source": [
    "# 2회차\n",
    "# digit recognizer에 제출할 파이썬 코드가 필요. 단, 코드 실행 시 accuracy가 0.97 이상 가질 것\n",
    "\n",
    "import numpy as np\n",
    "import pandas as pd\n",
    "from sklearn.model_selection import train_test_split\n",
    "from keras.models import Sequential\n",
    "from keras.layers import Conv2D, MaxPooling2D, Flatten, Dense\n",
    "from keras.utils import to_categorical\n",
    "\n",
    "# 데이터 불러오기\n",
    "train_data = pd.read_csv(\"train.csv\")\n",
    "test_data = pd.read_csv(\"test.csv\")\n",
    "\n",
    "# 훈련 데이터와 레이블 분리\n",
    "X = train_data.drop(\"label\", axis=1).values.astype(\"float32\") / 255.0\n",
    "y = to_categorical(train_data[\"label\"].values, num_classes=10)\n",
    "\n",
    "# 데이터 전처리: 이미지 형태로 변환\n",
    "X = X.reshape(-1, 28, 28, 1)\n",
    "\n",
    "# 훈련 데이터와 검증 데이터 분리\n",
    "X_train, X_val, y_train, y_val = train_test_split(X, y, test_size=0.2, random_state=42)\n",
    "\n",
    "# 모델 구성\n",
    "model = Sequential()\n",
    "model.add(Conv2D(32, (3, 3), activation=\"relu\", input_shape=(28, 28, 1)))\n",
    "model.add(MaxPooling2D((2, 2)))\n",
    "model.add(Conv2D(64, (3, 3), activation=\"relu\"))\n",
    "model.add(MaxPooling2D((2, 2)))\n",
    "model.add(Flatten())\n",
    "model.add(Dense(128, activation=\"relu\"))\n",
    "model.add(Dense(10, activation=\"softmax\"))\n",
    "\n",
    "# 모델 컴파일\n",
    "model.compile(optimizer=\"adam\", loss=\"categorical_crossentropy\", metrics=[\"accuracy\"])\n",
    "\n",
    "# 모델 훈련\n",
    "model.fit(X_train, y_train, epochs=10, batch_size=64, validation_data=(X_val, y_val))\n",
    "\n",
    "# 테스트 데이터 예측\n",
    "X_test = test_data.values.astype(\"float32\") / 255.0\n",
    "X_test = X_test.reshape(-1, 28, 28, 1)\n",
    "predictions = model.predict(X_test)\n",
    "\n",
    "# 결과 저장\n",
    "results = np.argmax(predictions, axis=1)\n",
    "submission = pd.DataFrame({\"ImageId\": range(1, len(results) + 1), \"Label\": results})\n",
    "submission.to_csv(\"submission.csv\", index=False)"
   ]
  },
  {
   "cell_type": "code",
   "execution_count": 8,
   "id": "e0750dae",
   "metadata": {},
   "outputs": [
    {
     "name": "stdout",
     "output_type": "stream",
     "text": [
      "263/263 [==============================] - 1s 5ms/step - loss: 0.0489 - accuracy: 0.9863\n",
      "Validation Accuracy: 98.63%\n"
     ]
    }
   ],
   "source": [
    "# \"위에서 생성한 모델의 정확도를 확인 할 수 있는 파이썬 코드가 필요\" 프롬프트에 대해 gpt가 생성한 코드\n",
    "\n",
    "# 모델 평가\n",
    "eval_result = model.evaluate(X_val, y_val)\n",
    "print(f\"Validation Accuracy: {eval_result[1]*100:.2f}%\")"
   ]
  },
  {
   "cell_type": "markdown",
   "id": "a67da1b7",
   "metadata": {},
   "source": [
    "# 2회차 결과\n",
    "- 모델 정확도 (Test Accuracy) : 98.63 %\n",
    "- kaggle score : 0.9864\n",
    "- 모델 정확도 확인을 위한 코드가 생성되지 않아, 추가로 생성이 필요했음"
   ]
  },
  {
   "cell_type": "code",
   "execution_count": 11,
   "id": "1a9f5492",
   "metadata": {},
   "outputs": [
    {
     "name": "stdout",
     "output_type": "stream",
     "text": [
      "Epoch 1/10\n",
      "525/525 [==============================] - 3s 5ms/step - loss: 0.2180 - accuracy: 0.9350 - val_loss: 0.0756 - val_accuracy: 0.9774\n",
      "Epoch 2/10\n",
      "525/525 [==============================] - 2s 5ms/step - loss: 0.0610 - accuracy: 0.9810 - val_loss: 0.0490 - val_accuracy: 0.9856\n",
      "Epoch 3/10\n",
      "525/525 [==============================] - 2s 5ms/step - loss: 0.0414 - accuracy: 0.9872 - val_loss: 0.0465 - val_accuracy: 0.9845\n",
      "Epoch 4/10\n",
      "525/525 [==============================] - 2s 5ms/step - loss: 0.0316 - accuracy: 0.9902 - val_loss: 0.0624 - val_accuracy: 0.9804\n",
      "Epoch 5/10\n",
      "525/525 [==============================] - 2s 5ms/step - loss: 0.0232 - accuracy: 0.9922 - val_loss: 0.0366 - val_accuracy: 0.9886\n",
      "Epoch 6/10\n",
      "525/525 [==============================] - 3s 5ms/step - loss: 0.0171 - accuracy: 0.9943 - val_loss: 0.0361 - val_accuracy: 0.9892\n",
      "Epoch 7/10\n",
      "525/525 [==============================] - 3s 5ms/step - loss: 0.0156 - accuracy: 0.9944 - val_loss: 0.0405 - val_accuracy: 0.9881\n",
      "Epoch 8/10\n",
      "525/525 [==============================] - 2s 5ms/step - loss: 0.0114 - accuracy: 0.9964 - val_loss: 0.0320 - val_accuracy: 0.9902\n",
      "Epoch 9/10\n",
      "525/525 [==============================] - 2s 5ms/step - loss: 0.0097 - accuracy: 0.9965 - val_loss: 0.0389 - val_accuracy: 0.9883\n",
      "Epoch 10/10\n",
      "525/525 [==============================] - 2s 5ms/step - loss: 0.0091 - accuracy: 0.9970 - val_loss: 0.0365 - val_accuracy: 0.9901\n",
      "263/263 [==============================] - 1s 3ms/step - loss: 0.0365 - accuracy: 0.9901\n",
      "Validation Accuracy: 99.01%\n",
      "875/875 [==============================] - 1s 1ms/step\n"
     ]
    }
   ],
   "source": [
    "import numpy as np\n",
    "import pandas as pd\n",
    "from sklearn.model_selection import train_test_split\n",
    "from tensorflow import keras\n",
    "from tensorflow.keras import layers\n",
    "\n",
    "# 데이터 불러오기\n",
    "train_data = pd.read_csv(\"train.csv\")\n",
    "test_data = pd.read_csv(\"test.csv\")\n",
    "\n",
    "# 훈련 데이터와 레이블 분리\n",
    "X = train_data.drop(\"label\", axis=1).values.astype(\"float32\") / 255.0\n",
    "y = keras.utils.to_categorical(train_data[\"label\"].values, num_classes=10)\n",
    "\n",
    "# 데이터 전처리: 이미지 형태로 변환\n",
    "X = X.reshape(-1, 28, 28, 1)\n",
    "\n",
    "# 훈련 데이터와 검증 데이터 분리\n",
    "X_train, X_val, y_train, y_val = train_test_split(X, y, test_size=0.2, random_state=42)\n",
    "\n",
    "# 모델 구성\n",
    "model = keras.Sequential([\n",
    "    layers.Conv2D(32, kernel_size=(3, 3), activation=\"relu\", input_shape=(28, 28, 1)),\n",
    "    layers.MaxPooling2D(pool_size=(2, 2)),\n",
    "    layers.Conv2D(64, kernel_size=(3, 3), activation=\"relu\"),\n",
    "    layers.MaxPooling2D(pool_size=(2, 2)),\n",
    "    layers.Flatten(),\n",
    "    layers.Dense(128, activation=\"relu\"),\n",
    "    layers.Dense(10, activation=\"softmax\")\n",
    "])\n",
    "\n",
    "# 모델 컴파일\n",
    "model.compile(optimizer=\"adam\", loss=\"categorical_crossentropy\", metrics=[\"accuracy\"])\n",
    "\n",
    "# 모델 훈련\n",
    "model.fit(X_train, y_train, epochs=10, batch_size=64, validation_data=(X_val, y_val))\n",
    "\n",
    "# 모델 평가\n",
    "eval_result = model.evaluate(X_val, y_val)\n",
    "print(f\"Validation Accuracy: {eval_result[1]*100:.2f}%\")\n",
    "\n",
    "# 테스트 데이터 예측\n",
    "X_test = test_data.values.astype(\"float32\") / 255.0\n",
    "X_test = X_test.reshape(-1, 28, 28, 1)\n",
    "predictions = model.predict(X_test)\n",
    "\n",
    "# 결과 저장\n",
    "results = np.argmax(predictions, axis=1)\n",
    "submission = pd.DataFrame({\"ImageId\": range(1, len(results) + 1), \"Label\": results})\n",
    "submission.to_csv(\"submission.csv\", index=False)\n"
   ]
  },
  {
   "cell_type": "markdown",
   "id": "fb740d7a",
   "metadata": {},
   "source": [
    "# 3회차 결과\n",
    "- Test accuracy : 0.9901\n",
    "- kaggle score : 0.9879\n",
    "- gpu 사용 확인함\n",
    "- 이전 정확도 대비 1.37% 향상"
   ]
  },
  {
   "cell_type": "code",
   "execution_count": null,
   "id": "68c810de",
   "metadata": {},
   "outputs": [],
   "source": []
  }
 ],
 "metadata": {
  "kernelspec": {
   "display_name": "Python 3 (ipykernel)",
   "language": "python",
   "name": "python3"
  },
  "language_info": {
   "codemirror_mode": {
    "name": "ipython",
    "version": 3
   },
   "file_extension": ".py",
   "mimetype": "text/x-python",
   "name": "python",
   "nbconvert_exporter": "python",
   "pygments_lexer": "ipython3",
   "version": "3.10.12"
  }
 },
 "nbformat": 4,
 "nbformat_minor": 5
}
